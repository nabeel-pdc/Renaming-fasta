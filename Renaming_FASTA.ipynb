{
  "nbformat": 4,
  "nbformat_minor": 0,
  "metadata": {
    "colab": {
      "provenance": [],
      "authorship_tag": "ABX9TyPKwfZ/gpUzwPFuIJY92uAs",
      "include_colab_link": true
    },
    "kernelspec": {
      "name": "python3",
      "display_name": "Python 3"
    },
    "language_info": {
      "name": "python"
    }
  },
  "cells": [
    {
      "cell_type": "markdown",
      "metadata": {
        "id": "view-in-github",
        "colab_type": "text"
      },
      "source": [
        "<a href=\"https://colab.research.google.com/github/nabeel-pdc/renaming-fasta/blob/main/Renaming_FASTA.ipynb\" target=\"_parent\"><img src=\"https://colab.research.google.com/assets/colab-badge.svg\" alt=\"Open In Colab\"/></a>"
      ]
    },
    {
      "cell_type": "code",
      "execution_count": null,
      "metadata": {
        "id": "3qCcX7r-Xg9C"
      },
      "outputs": [],
      "source": [
        "#Install required libraries for the script. This script needs Biopyhton commands to complete the required task. Skip if already installed \n",
        "!pip install biopython\n",
        "\n",
        "#mount your google drive with colab. You can skip this step inf using CMD, VS code or other local environemnts \n",
        "from google.colab import drive\n",
        "drive.mount('/content/drive')\n",
        "\n",
        "# import necessary libraries\n",
        "import pandas as pd\n",
        "from Bio import SeqIO\n",
        "\n",
        "# read the excel file containing accession numbers, dates, countries, continents, and isolates\n",
        "data = pd.read_excel('Path-to-Excel-file.xlsx', header=None)\n",
        "\n",
        "# create a dictionary to map accession numbers to their corresponding metadata\n",
        "metadata_dict = {row[0]: f\"{row[0]}/{row[1]}/{row[2]}/{row[3]}/{row[4]}\" for index, row in data.iterrows()}\n",
        "\n",
        "# create a list to store the renamed sequences\n",
        "renamed_sequences = []\n",
        "\n",
        "# read the fasta file, rename the sequences, and store them in the list\n",
        "with open('Path-to-INPUT-fasta-file.fasta', 'r') as f:\n",
        "    for record in SeqIO.parse(f, 'fasta'):\n",
        "        if record.id in metadata_dict:\n",
        "            record.id = metadata_dict[record.id]\n",
        "            record.name = ''\n",
        "            record.description = ''\n",
        "            renamed_sequences.append(record)\n",
        "\n",
        "# write the renamed sequences to a new fasta file\n",
        "with open('Path-to-OUTPUT-fasta-file.fasta', 'w') as f:\n",
        "    SeqIO.write(renamed_sequences, f, 'fasta')"
      ]
    }
  ]
}